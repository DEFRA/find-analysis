{
 "cells": [
  {
   "cell_type": "markdown",
   "metadata": {},
   "source": [
    "# Find Scheme Content Comparison"
   ]
  },
  {
   "cell_type": "markdown",
   "metadata": {},
   "source": [
    "## Set up dependencies"
   ]
  },
  {
   "cell_type": "code",
   "execution_count": null,
   "metadata": {},
   "outputs": [],
   "source": [
    "!pip install python_dotenv"
   ]
  },
  {
   "cell_type": "code",
   "execution_count": null,
   "metadata": {},
   "outputs": [],
   "source": [
    "!pip install azure-search-documents"
   ]
  },
  {
   "cell_type": "code",
   "execution_count": null,
   "metadata": {},
   "outputs": [],
   "source": [
    "!pip install pandas"
   ]
  },
  {
   "cell_type": "markdown",
   "metadata": {},
   "source": [
    "## Get schemes from the FFA Vector Store"
   ]
  },
  {
   "cell_type": "code",
   "execution_count": null,
   "metadata": {},
   "outputs": [],
   "source": [
    "import os\n",
    "import pandas as pd\n",
    "from dotenv import load_dotenv\n",
    "from azure.core.credentials import AzureKeyCredential\n",
    "from azure.search.documents import SearchClient\n",
    "\n",
    "def setup_client():\n",
    "    load_dotenv()\n",
    "    service_endpoint = os.environ[\"AZURE_AISEARCH_ENDPOINT\"]\n",
    "    index_name = os.environ[\"AZURE_SEARCH_INDEX_NAME\"]\n",
    "    key = os.environ[\"AZURE_AISEARCH_KEY\"]\n",
    "    credential = AzureKeyCredential(key)\n",
    "    client = SearchClient(service_endpoint, index_name, credential)\n",
    "    return client\n",
    "\n",
    "client = setup_client()\n",
    "\n",
    "search_text = \"how much money can I get for my pond\"\n",
    "\n",
    "search_results = client.search(search_text)\n",
    "\n",
    "# for result in search_results:\n",
    "#     print(result[\"title\"], result[\"grant_scheme_name\"], result[\"@search.score\"], result[\"chunk\"])\n",
    "\n",
    "results = []\n",
    "for result in search_results:\n",
    "    results.append({\"score\": result[\"@search.score\"], \"title\": result[\"title\"], \"grant_scheme_name\": result[\"grant_scheme_name\"], \"chunk\": result[\"chunk\"]})\n",
    "\n",
    "pd.DataFrame(results)"
   ]
  },
  {
   "cell_type": "markdown",
   "metadata": {},
   "source": []
  }
 ],
 "metadata": {
  "kernelspec": {
   "display_name": "Python 3",
   "language": "python",
   "name": "python3"
  },
  "language_info": {
   "codemirror_mode": {
    "name": "ipython",
    "version": 3
   },
   "file_extension": ".py",
   "mimetype": "text/x-python",
   "name": "python",
   "nbconvert_exporter": "python",
   "pygments_lexer": "ipython3",
   "version": "3.12.5"
  }
 },
 "nbformat": 4,
 "nbformat_minor": 2
}
